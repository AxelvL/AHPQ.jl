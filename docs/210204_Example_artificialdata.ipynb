{
 "cells": [
  {
   "cell_type": "code",
   "execution_count": 1,
   "metadata": {
    "ExecuteTime": {
     "end_time": "2021-02-05T12:52:22.123000+01:00",
     "start_time": "2021-02-05T11:52:02.152Z"
    },
    "scrolled": false
   },
   "outputs": [],
   "source": [
    "include(\"../src/AHPQ.jl\")\n",
    "using .AHPQ"
   ]
  },
  {
   "cell_type": "markdown",
   "metadata": {},
   "source": [
    "## Artificial Data Generation"
   ]
  },
  {
   "cell_type": "code",
   "execution_count": 2,
   "metadata": {
    "ExecuteTime": {
     "end_time": "2021-02-05T12:52:25.098000+01:00",
     "start_time": "2021-02-05T11:52:24.761Z"
    }
   },
   "outputs": [],
   "source": [
    "using Statistics: norm"
   ]
  },
  {
   "cell_type": "code",
   "execution_count": 3,
   "metadata": {
    "ExecuteTime": {
     "end_time": "2021-02-05T12:52:27.150000+01:00",
     "start_time": "2021-02-05T11:52:25.144Z"
    }
   },
   "outputs": [],
   "source": [
    "n_dp = 1000\n",
    "n_dim = 16\n",
    "n_queries = 100\n",
    "n_neighbors = 100\n",
    "\n",
    "data = rand(n_dim, n_dp)\n",
    "data = data ./ mapslices(norm, data, dims=1)\n",
    "queries = rand(n_dim, n_queries)\n",
    "innerproducts = data' * queries\n",
    "groundtruth = mapslices(x -> partialsortperm(x, 1:n_neighbors, rev=true), innerproducts,dims=1);"
   ]
  },
  {
   "cell_type": "markdown",
   "metadata": {},
   "source": [
    "### 16x1.000 Dataset and 8x8 codebook"
   ]
  },
  {
   "cell_type": "code",
   "execution_count": 4,
   "metadata": {
    "ExecuteTime": {
     "end_time": "2021-02-05T12:52:27.151000+01:00",
     "start_time": "2021-02-05T11:52:26.521Z"
    }
   },
   "outputs": [],
   "source": [
    "n_codebooks = 8\n",
    "n_centers   = 8\n",
    "recalln = 10\n",
    "stopcond= 1e-1;"
   ]
  },
  {
   "cell_type": "code",
   "execution_count": 5,
   "metadata": {
    "ExecuteTime": {
     "end_time": "2021-02-05T12:52:37.098000+01:00",
     "start_time": "2021-02-05T11:52:28.666Z"
    }
   },
   "outputs": [
    {
     "ename": "LoadError",
     "evalue": "MethodError: no method matching quantizer(::Array{Float64,2}, ::Type{Main.AHPQ.L2_loss}, ::Array{Float64,1}, ::NamedTuple{(:n_codebooks, :n_centers, :a, :b, :initialise_with_euclidean_loss, :inverted_index, :max_iter, :stopcond, :verbose, :max_iter_assignments, :optimisation, :multithreading, :GPU, :increment_steps, :incremental_fitting_iteration, :reorder, :training_points),Tuple{Int64,Int64,Int64,Int64,Bool,Bool,Int64,Float64,Bool,Int64,String,Bool,Bool,Int64,Bool,Int64,Int64}})\nClosest candidates are:\n  quantizer(::AbstractArray{T,2} where T, !Matched::Main.AHPQ.L2_loss, ::Any, ::NamedTuple) at C:\\Users\\Axel9\\.julia\\dev\\AHPQ\\src\\quantizer\\quantizer.jl:5\n  quantizer(::AbstractArray{T,2} where T, !Matched::Main.AHPQ.AnisotropicWeights, ::Any, ::NamedTuple) at C:\\Users\\Axel9\\.julia\\dev\\AHPQ\\src\\quantizer\\quantizer.jl:22",
     "output_type": "error",
     "traceback": [
      "MethodError: no method matching quantizer(::Array{Float64,2}, ::Type{Main.AHPQ.L2_loss}, ::Array{Float64,1}, ::NamedTuple{(:n_codebooks, :n_centers, :a, :b, :initialise_with_euclidean_loss, :inverted_index, :max_iter, :stopcond, :verbose, :max_iter_assignments, :optimisation, :multithreading, :GPU, :increment_steps, :incremental_fitting_iteration, :reorder, :training_points),Tuple{Int64,Int64,Int64,Int64,Bool,Bool,Int64,Float64,Bool,Int64,String,Bool,Bool,Int64,Bool,Int64,Int64}})\nClosest candidates are:\n  quantizer(::AbstractArray{T,2} where T, !Matched::Main.AHPQ.L2_loss, ::Any, ::NamedTuple) at C:\\Users\\Axel9\\.julia\\dev\\AHPQ\\src\\quantizer\\quantizer.jl:5\n  quantizer(::AbstractArray{T,2} where T, !Matched::Main.AHPQ.AnisotropicWeights, ::Any, ::NamedTuple) at C:\\Users\\Axel9\\.julia\\dev\\AHPQ\\src\\quantizer\\quantizer.jl:22",
      "",
      "Stacktrace:",
      " [1] builder(::Array{Float64,2}; T::Int64, kwargs::Base.Iterators.Pairs{Symbol,Real,NTuple{5,Symbol},NamedTuple{(:n_codebooks, :n_centers, :verbose, :stopcond, :a),Tuple{Int64,Int64,Bool,Float64,Int64}}}) at C:\\Users\\Axel9\\.julia\\dev\\AHPQ\\src\\builder.jl:80",
      " [2] top-level scope at In[5]:2",
      " [3] include_string(::Function, ::Module, ::String, ::String) at .\\loading.jl:1091",
      " [4] execute_code(::String, ::String) at C:\\Users\\Axel9\\.julia\\packages\\IJulia\\rWZ9e\\src\\execute_request.jl:27",
      " [5] execute_request(::ZMQ.Socket, ::IJulia.Msg) at C:\\Users\\Axel9\\.julia\\packages\\IJulia\\rWZ9e\\src\\execute_request.jl:86",
      " [6] #invokelatest#1 at .\\essentials.jl:710 [inlined]",
      " [7] invokelatest at .\\essentials.jl:709 [inlined]",
      " [8] eventloop(::ZMQ.Socket) at C:\\Users\\Axel9\\.julia\\packages\\IJulia\\rWZ9e\\src\\eventloop.jl:8",
      " [9] (::IJulia.var\"#15#18\")() at .\\task.jl:356"
     ]
    }
   ],
   "source": [
    "traindata = deepcopy(data)\n",
    "ahpq = builder(traindata; T=0, n_codebooks=n_codebooks, n_centers=n_centers,\n",
    "                                    verbose=true,\n",
    "                                    stopcond=stopcond,\n",
    "                                    a=0);"
   ]
  },
  {
   "cell_type": "code",
   "execution_count": null,
   "metadata": {},
   "outputs": [],
   "source": []
  },
  {
   "cell_type": "code",
   "execution_count": null,
   "metadata": {},
   "outputs": [],
   "source": []
  },
  {
   "cell_type": "code",
   "execution_count": null,
   "metadata": {},
   "outputs": [],
   "source": []
  },
  {
   "cell_type": "code",
   "execution_count": null,
   "metadata": {},
   "outputs": [],
   "source": []
  },
  {
   "cell_type": "code",
   "execution_count": null,
   "metadata": {},
   "outputs": [],
   "source": []
  }
 ],
 "metadata": {
  "kernelspec": {
   "display_name": "Julia 4 Threads 1.5.2",
   "language": "julia",
   "name": "julia-4-threads-1.5"
  },
  "language_info": {
   "file_extension": ".jl",
   "mimetype": "application/julia",
   "name": "julia",
   "version": "1.5.2"
  },
  "toc": {
   "base_numbering": 1,
   "nav_menu": {},
   "number_sections": true,
   "sideBar": true,
   "skip_h1_title": false,
   "title_cell": "Table of Contents",
   "title_sidebar": "Contents",
   "toc_cell": false,
   "toc_position": {},
   "toc_section_display": true,
   "toc_window_display": false
  },
  "varInspector": {
   "cols": {
    "lenName": 16,
    "lenType": 16,
    "lenVar": 40
   },
   "kernels_config": {
    "python": {
     "delete_cmd_postfix": "",
     "delete_cmd_prefix": "del ",
     "library": "var_list.py",
     "varRefreshCmd": "print(var_dic_list())"
    },
    "r": {
     "delete_cmd_postfix": ") ",
     "delete_cmd_prefix": "rm(",
     "library": "var_list.r",
     "varRefreshCmd": "cat(var_dic_list()) "
    }
   },
   "types_to_exclude": [
    "module",
    "function",
    "builtin_function_or_method",
    "instance",
    "_Feature"
   ],
   "window_display": false
  }
 },
 "nbformat": 4,
 "nbformat_minor": 2
}
