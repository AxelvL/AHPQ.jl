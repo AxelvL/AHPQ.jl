{
 "cells": [
  {
   "cell_type": "code",
   "execution_count": null,
   "metadata": {
    "ExecuteTime": {
     "start_time": "2021-02-05T14:44:00.193Z"
    },
    "scrolled": true
   },
   "outputs": [
    {
     "name": "stdout",
     "output_type": "stream",
     "text": [
      "\u001b[?25l"
     ]
    },
    {
     "name": "stderr",
     "output_type": "stream",
     "text": [
      "\u001b[32m\u001b[1m   Updating\u001b[22m\u001b[39m git-repo `https://github.com/AxelvL/AHPQ.jl`\n"
     ]
    },
    {
     "name": "stdout",
     "output_type": "stream",
     "text": [
      "\u001b[2K\u001b[?25h[1mFetching:\u001b[22m\u001b[39m [========================================>]  100.0 %"
     ]
    },
    {
     "name": "stderr",
     "output_type": "stream",
     "text": [
      "\u001b[32m\u001b[1m   Updating\u001b[22m\u001b[39m registry at `C:\\Users\\Axel9\\.julia\\registries\\General`\n"
     ]
    },
    {
     "name": "stdout",
     "output_type": "stream",
     "text": [
      "\u001b[?25l"
     ]
    },
    {
     "name": "stderr",
     "output_type": "stream",
     "text": [
      "\u001b[32m\u001b[1m   Updating\u001b[22m\u001b[39m git-repo `https://github.com/JuliaRegistries/General.git`\n"
     ]
    },
    {
     "name": "stdout",
     "output_type": "stream",
     "text": [
      "\u001b[2K\u001b[?25h"
     ]
    },
    {
     "name": "stderr",
     "output_type": "stream",
     "text": [
      "\u001b[32m\u001b[1m  Resolving\u001b[22m\u001b[39m package versions...\n",
      "\u001b[32m\u001b[1mUpdating\u001b[22m\u001b[39m `C:\\Users\\Axel9\\.julia\\environments\\v1.5\\Project.toml`\n",
      " \u001b[90m [b1450aca] \u001b[39m\u001b[93m~ AHPQ v0.1.0 `https://github.com/AxelvL/AHPQ.jl#master` ⇒ v0.1.0 `https://github.com/AxelvL/AHPQ.jl#master`\u001b[39m\n",
      "\u001b[32m\u001b[1mUpdating\u001b[22m\u001b[39m `C:\\Users\\Axel9\\.julia\\environments\\v1.5\\Manifest.toml`\n",
      " \u001b[90m [b1450aca] \u001b[39m\u001b[93m~ AHPQ v0.1.0 `https://github.com/AxelvL/AHPQ.jl#master` ⇒ v0.1.0 `https://github.com/AxelvL/AHPQ.jl#master`\u001b[39m\n",
      "┌ Info: Precompiling AHPQ [b1450aca-318d-4cca-a6fa-ceaba11f2713]\n",
      "└ @ Base loading.jl:1278\n"
     ]
    }
   ],
   "source": [
    "using Pkg\n",
    "Pkg.add(PackageSpec(url=\"https://github.com/AxelvL/AHPQ.jl\", rev=\"master\"))\n",
    "using AHPQ"
   ]
  },
  {
   "cell_type": "markdown",
   "metadata": {},
   "source": [
    "## Artificial Data Generation"
   ]
  },
  {
   "cell_type": "code",
   "execution_count": null,
   "metadata": {
    "ExecuteTime": {
     "end_time": "2021-02-05T15:23:40.148000+01:00",
     "start_time": "2021-02-05T14:20:15.921Z"
    }
   },
   "outputs": [],
   "source": [
    "using Plots\n",
    "using Statistics: norm"
   ]
  },
  {
   "cell_type": "code",
   "execution_count": null,
   "metadata": {
    "ExecuteTime": {
     "end_time": "2021-02-05T15:23:52.528000+01:00",
     "start_time": "2021-02-05T14:20:15.922Z"
    }
   },
   "outputs": [],
   "source": [
    "n_dp = 1000\n",
    "n_dim = 16\n",
    "n_queries = 100\n",
    "n_neighbors = 100\n",
    "\n",
    "data = rand(n_dim, n_dp)\n",
    "data = data ./ mapslices(norm, data, dims=1)\n",
    "queries = rand(n_dim, n_queries)\n",
    "innerproducts = data' * queries\n",
    "groundtruth = mapslices(x -> partialsortperm(x, 1:n_neighbors, rev=true), innerproducts,dims=1);"
   ]
  },
  {
   "cell_type": "markdown",
   "metadata": {},
   "source": [
    "## 16x1.000 Dataset and 8x8 codebook"
   ]
  },
  {
   "cell_type": "code",
   "execution_count": null,
   "metadata": {
    "ExecuteTime": {
     "end_time": "2021-02-05T15:23:52.530000+01:00",
     "start_time": "2021-02-05T14:20:15.925Z"
    }
   },
   "outputs": [],
   "source": [
    "n_codebooks = 8\n",
    "n_centers   = 8\n",
    "recalln = 20\n",
    "stopcond= 1e-2;"
   ]
  },
  {
   "cell_type": "markdown",
   "metadata": {},
   "source": [
    "### Finding optimal `T`"
   ]
  },
  {
   "cell_type": "code",
   "execution_count": null,
   "metadata": {
    "ExecuteTime": {
     "end_time": "2021-02-05T15:24:13.817000+01:00",
     "start_time": "2021-02-05T14:20:15.926Z"
    },
    "scrolled": true
   },
   "outputs": [],
   "source": [
    "Ts = 0:0.1:1\n",
    "scores = zeros(11)\n",
    "for i in 1:length(Ts)\n",
    "    traindata=deepcopy(data)\n",
    "    ahpq = builder(traindata; T=Ts[i], n_codebooks=n_codebooks, \n",
    "                                    n_centers=n_centers,\n",
    "                                    verbose=false,\n",
    "                                    stopcond=stopcond,\n",
    "                                    a=0,\n",
    "                                    training_points=-1)\n",
    "    yhat = AHPQ.MIPS(ahpq, queries, n_neighbors)\n",
    "    scores[i] = recall1atN(yhat, groundtruth, recalln)\n",
    "end"
   ]
  },
  {
   "cell_type": "code",
   "execution_count": null,
   "metadata": {
    "ExecuteTime": {
     "end_time": "2021-02-05T15:24:24.798000+01:00",
     "start_time": "2021-02-05T14:20:15.929Z"
    }
   },
   "outputs": [],
   "source": [
    "plot(Ts[2:end], scores[2:end], label=\"Anisotropic\", marker=:dot)\n",
    "hline!([scores[1]], label=\"L2 Loss\")\n",
    "plot!(title=\"Recall 1@$(recalln) on 1000x16 artifical data, $(n_codebooks)x$(n_centers) codebook\", \n",
    "      xlabel=\"T\",\n",
    "      ylabel=\"Recall 1@$(recalln)\")"
   ]
  },
  {
   "cell_type": "markdown",
   "metadata": {},
   "source": [
    "### Comparison to L2 loss"
   ]
  },
  {
   "cell_type": "code",
   "execution_count": null,
   "metadata": {
    "ExecuteTime": {
     "end_time": "2021-02-05T15:24:25.204000+01:00",
     "start_time": "2021-02-05T14:20:15.931Z"
    }
   },
   "outputs": [],
   "source": [
    "function get1atNscores(ranking, n_neighbors, groundtruth)\n",
    "    scores = zeros(n_neighbors)\n",
    "    for i in 1:n_neighbors\n",
    "        scores[i] = recall1atN(ranking, groundtruth, i)\n",
    "    end\n",
    "    return scores\n",
    "end"
   ]
  },
  {
   "cell_type": "markdown",
   "metadata": {},
   "source": [
    "#### Training Tuned Anisotropic PQ"
   ]
  },
  {
   "cell_type": "code",
   "execution_count": null,
   "metadata": {
    "ExecuteTime": {
     "end_time": "2021-02-05T15:24:26.643000+01:00",
     "start_time": "2021-02-05T14:20:15.932Z"
    }
   },
   "outputs": [],
   "source": [
    "traindata = deepcopy(data)\n",
    "ahpq = builder(traindata, T=Ts[argmax(scores)], n_codebooks=n_codebooks, \n",
    "                                    n_centers=n_centers,\n",
    "                                    verbose=false,\n",
    "                                    stopcond=stopcond,\n",
    "                                    a=0,\n",
    "                                    training_points=-1);\n",
    "yhat = AHPQ.MIPS(ahpq, queries, n_neighbors)\n",
    "anisotropic_scores  = get1atNscores(yhat, n_neighbors, groundtruth);"
   ]
  },
  {
   "cell_type": "markdown",
   "metadata": {},
   "source": [
    "#### Training L2 PQ"
   ]
  },
  {
   "cell_type": "code",
   "execution_count": null,
   "metadata": {
    "ExecuteTime": {
     "end_time": "2021-02-05T15:24:27.198000+01:00",
     "start_time": "2021-02-05T14:20:15.934Z"
    }
   },
   "outputs": [],
   "source": [
    "traindata = deepcopy(data)\n",
    "ahpq = builder(traindata, T=0, n_codebooks=n_codebooks, \n",
    "                                    n_centers=n_centers,\n",
    "                                    verbose=false,\n",
    "                                    stopcond=stopcond,\n",
    "                                    a=0,\n",
    "                                    training_points=-1);\n",
    "yhat = AHPQ.MIPS(ahpq, queries, n_neighbors)\n",
    "L2_scores  = get1atNscores(yhat, n_neighbors, groundtruth);"
   ]
  },
  {
   "cell_type": "code",
   "execution_count": null,
   "metadata": {
    "ExecuteTime": {
     "end_time": "2021-02-05T15:24:28.008000+01:00",
     "start_time": "2021-02-05T14:20:15.936Z"
    }
   },
   "outputs": [],
   "source": [
    "plot(1:100, anisotropic_scores, label=\"Anisotropic\")\n",
    "plot!(1:100, L2_scores, label=\"L2\")\n",
    "plot!(title=\"Recall on 1000x16 artifical data, $(n_codebooks)x$(n_centers) codebook\", \n",
    "      xlabel=\"N\",\n",
    "      ylabel=\"Recall 1@N\",\n",
    "      legend=:bottomright)"
   ]
  },
  {
   "cell_type": "markdown",
   "metadata": {},
   "source": [
    "## 100x1.000 Dataset: Varying `n_codebooks`"
   ]
  },
  {
   "cell_type": "code",
   "execution_count": null,
   "metadata": {
    "ExecuteTime": {
     "end_time": "2021-02-05T15:24:28.098000+01:00",
     "start_time": "2021-02-05T14:20:15.937Z"
    }
   },
   "outputs": [],
   "source": [
    "## Artificial Data Generation ##\n",
    "n_dp = 1000\n",
    "n_dim = 100\n",
    "n_queries = 100\n",
    "n_neighbors = 100\n",
    "\n",
    "data = rand(n_dim, n_dp)\n",
    "data = data ./ mapslices(norm, data, dims=1)\n",
    "queries = rand(n_dim, n_queries)\n",
    "innerproducts = data' * queries\n",
    "groundtruth = mapslices(x -> partialsortperm(x, 1:n_neighbors, rev=true), innerproducts,dims=1);"
   ]
  },
  {
   "cell_type": "code",
   "execution_count": null,
   "metadata": {
    "ExecuteTime": {
     "end_time": "2021-02-05T15:24:28.099000+01:00",
     "start_time": "2021-02-05T14:20:15.939Z"
    }
   },
   "outputs": [],
   "source": [
    "n_centers = 16\n",
    "n_codebooks = [2, 5, 10, 25, 50, 100]\n",
    "nrecall = 20\n",
    "stopcond=1e-3;"
   ]
  },
  {
   "cell_type": "code",
   "execution_count": null,
   "metadata": {
    "ExecuteTime": {
     "start_time": "2021-02-05T14:20:15.940Z"
    }
   },
   "outputs": [],
   "source": [
    "Ts = 0.001:0.1:1\n",
    "scores = zeros(11)\n",
    "for i in 1:length(Ts)\n",
    "    println(\"Training with T=$(T[i])\")\n",
    "    traindata=deepcopy(data)\n",
    "    ahpq = builder(traindata; T=Ts[i], n_codebooks=25, \n",
    "                                    n_centers=n_centers,\n",
    "                                    verbose=true,\n",
    "                                    stopcond=stopcond,\n",
    "                                    a=0,\n",
    "                                    training_points=-1)\n",
    "    yhat = AHPQ.MIPS(ahpq, queries, n_neighbors)\n",
    "    scores[i] = recall1atN(yhat, groundtruth, recalln)\n",
    "end\n",
    "print(\"Optimal T found at $(Ts[argmax(scores)])\")"
   ]
  }
 ],
 "metadata": {
  "kernelspec": {
   "display_name": "Julia 4 Threads 1.5.2",
   "language": "julia",
   "name": "julia-4-threads-1.5"
  },
  "language_info": {
   "file_extension": ".jl",
   "mimetype": "application/julia",
   "name": "julia",
   "version": "1.5.2"
  },
  "toc": {
   "base_numbering": 1,
   "nav_menu": {},
   "number_sections": true,
   "sideBar": true,
   "skip_h1_title": false,
   "title_cell": "Table of Contents",
   "title_sidebar": "Contents",
   "toc_cell": false,
   "toc_position": {},
   "toc_section_display": true,
   "toc_window_display": true
  },
  "varInspector": {
   "cols": {
    "lenName": 16,
    "lenType": 16,
    "lenVar": 40
   },
   "kernels_config": {
    "python": {
     "delete_cmd_postfix": "",
     "delete_cmd_prefix": "del ",
     "library": "var_list.py",
     "varRefreshCmd": "print(var_dic_list())"
    },
    "r": {
     "delete_cmd_postfix": ") ",
     "delete_cmd_prefix": "rm(",
     "library": "var_list.r",
     "varRefreshCmd": "cat(var_dic_list()) "
    }
   },
   "types_to_exclude": [
    "module",
    "function",
    "builtin_function_or_method",
    "instance",
    "_Feature"
   ],
   "window_display": false
  }
 },
 "nbformat": 4,
 "nbformat_minor": 2
}
