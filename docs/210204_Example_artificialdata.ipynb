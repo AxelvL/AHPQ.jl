{
 "cells": [
  {
   "cell_type": "code",
   "execution_count": 1,
   "metadata": {
    "ExecuteTime": {
     "end_time": "2021-02-05T13:15:14.580000+01:00",
     "start_time": "2021-02-05T12:14:54.617Z"
    },
    "scrolled": false
   },
   "outputs": [],
   "source": [
    "include(\"../src/AHPQ.jl\")\n",
    "using .AHPQ"
   ]
  },
  {
   "cell_type": "markdown",
   "metadata": {},
   "source": [
    "## Artificial Data Generation"
   ]
  },
  {
   "cell_type": "code",
   "execution_count": 2,
   "metadata": {
    "ExecuteTime": {
     "end_time": "2021-02-05T13:15:14.970000+01:00",
     "start_time": "2021-02-05T12:14:57.097Z"
    }
   },
   "outputs": [],
   "source": [
    "using Statistics: norm"
   ]
  },
  {
   "cell_type": "code",
   "execution_count": 3,
   "metadata": {
    "ExecuteTime": {
     "end_time": "2021-02-05T13:15:16.965000+01:00",
     "start_time": "2021-02-05T12:14:57.720Z"
    }
   },
   "outputs": [],
   "source": [
    "n_dp = 1000\n",
    "n_dim = 16\n",
    "n_queries = 100\n",
    "n_neighbors = 100\n",
    "\n",
    "data = rand(n_dim, n_dp)\n",
    "data = data ./ mapslices(norm, data, dims=1)\n",
    "queries = rand(n_dim, n_queries)\n",
    "innerproducts = data' * queries\n",
    "groundtruth = mapslices(x -> partialsortperm(x, 1:n_neighbors, rev=true), innerproducts,dims=1);"
   ]
  },
  {
   "cell_type": "markdown",
   "metadata": {},
   "source": [
    "### 16x1.000 Dataset and 8x8 codebook"
   ]
  },
  {
   "cell_type": "code",
   "execution_count": 4,
   "metadata": {
    "ExecuteTime": {
     "end_time": "2021-02-05T13:15:16.967000+01:00",
     "start_time": "2021-02-05T12:14:58.696Z"
    }
   },
   "outputs": [],
   "source": [
    "n_codebooks = 8\n",
    "n_centers   = 8\n",
    "recalln = 10\n",
    "stopcond= 1e-1;"
   ]
  },
  {
   "cell_type": "code",
   "execution_count": 5,
   "metadata": {
    "ExecuteTime": {
     "end_time": "2021-02-05T13:15:24.359000+01:00",
     "start_time": "2021-02-05T12:14:59.178Z"
    }
   },
   "outputs": [],
   "source": [
    "traindata = deepcopy(data)\n",
    "ahpq = builder(traindata; T=0, n_codebooks=n_codebooks, n_centers=n_centers,\n",
    "                                    verbose=true,\n",
    "                                    stopcond=stopcond,\n",
    "                                    a=0);"
   ]
  },
  {
   "cell_type": "code",
   "execution_count": null,
   "metadata": {},
   "outputs": [],
   "source": []
  },
  {
   "cell_type": "code",
   "execution_count": null,
   "metadata": {},
   "outputs": [],
   "source": []
  },
  {
   "cell_type": "code",
   "execution_count": null,
   "metadata": {},
   "outputs": [],
   "source": []
  },
  {
   "cell_type": "code",
   "execution_count": null,
   "metadata": {},
   "outputs": [],
   "source": []
  },
  {
   "cell_type": "code",
   "execution_count": null,
   "metadata": {},
   "outputs": [],
   "source": []
  }
 ],
 "metadata": {
  "kernelspec": {
   "display_name": "Julia 4 Threads 1.5.2",
   "language": "julia",
   "name": "julia-4-threads-1.5"
  },
  "language_info": {
   "file_extension": ".jl",
   "mimetype": "application/julia",
   "name": "julia",
   "version": "1.5.2"
  },
  "toc": {
   "base_numbering": 1,
   "nav_menu": {},
   "number_sections": true,
   "sideBar": true,
   "skip_h1_title": false,
   "title_cell": "Table of Contents",
   "title_sidebar": "Contents",
   "toc_cell": false,
   "toc_position": {},
   "toc_section_display": true,
   "toc_window_display": false
  },
  "varInspector": {
   "cols": {
    "lenName": 16,
    "lenType": 16,
    "lenVar": 40
   },
   "kernels_config": {
    "python": {
     "delete_cmd_postfix": "",
     "delete_cmd_prefix": "del ",
     "library": "var_list.py",
     "varRefreshCmd": "print(var_dic_list())"
    },
    "r": {
     "delete_cmd_postfix": ") ",
     "delete_cmd_prefix": "rm(",
     "library": "var_list.r",
     "varRefreshCmd": "cat(var_dic_list()) "
    }
   },
   "types_to_exclude": [
    "module",
    "function",
    "builtin_function_or_method",
    "instance",
    "_Feature"
   ],
   "window_display": false
  }
 },
 "nbformat": 4,
 "nbformat_minor": 2
}
